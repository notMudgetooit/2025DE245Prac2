{
  "nbformat": 4,
  "nbformat_minor": 0,
  "metadata": {
    "colab": {
      "provenance": []
    },
    "kernelspec": {
      "name": "python3",
      "display_name": "Python 3"
    },
    "language_info": {
      "name": "python"
    }
  },
  "cells": [
    {
      "cell_type": "markdown",
      "source": [
        "# Introduction to Python for Data Engineering\n",
        "\n",
        "This notebook demonstrates how to read data from a public API, process it to create useful information, and store the result in an SQLite database.\n",
        "\n",
        "It assumes you have read [this article](https://www.startdataengineering.com/post/python-for-de/#extract--load-read-and-write-data-to-any-system).\n",
        "\n",
        "**Acknowledgment**: Parts of this notebook were developed with the assistance of ChatGPT, an AI language model by OpenAI, to support instructional design and coding tasks related to data engineering concepts."
      ],
      "metadata": {
        "id": "Fok6QWp9znpg"
      }
    },
    {
      "cell_type": "code",
      "execution_count": 89,
      "metadata": {
        "colab": {
          "base_uri": "https://localhost:8080/"
        },
        "id": "vpIOn2KKzVhs",
        "outputId": "5f5a4ffa-523d-4189-cb74-1b5cc594152c"
      },
      "outputs": [
        {
          "output_type": "stream",
          "name": "stdout",
          "text": [
            "Requirement already satisfied: requests in /usr/local/lib/python3.11/dist-packages (2.32.3)\n",
            "Requirement already satisfied: charset-normalizer<4,>=2 in /usr/local/lib/python3.11/dist-packages (from requests) (3.4.2)\n",
            "Requirement already satisfied: idna<4,>=2.5 in /usr/local/lib/python3.11/dist-packages (from requests) (3.10)\n",
            "Requirement already satisfied: urllib3<3,>=1.21.1 in /usr/local/lib/python3.11/dist-packages (from requests) (2.5.0)\n",
            "Requirement already satisfied: certifi>=2017.4.17 in /usr/local/lib/python3.11/dist-packages (from requests) (2025.8.3)\n"
          ]
        }
      ],
      "source": [
        "# Install required packages\n",
        "!pip install requests"
      ]
    },
    {
      "cell_type": "markdown",
      "metadata": {
        "id": "a47232c4"
      },
      "source": [
        "# Task\n",
        "Update the notebook to convert Bitcoin price to any target currency supported by api.coingecko.com instead of only ZAR."
      ]
    },
    {
      "cell_type": "markdown",
      "metadata": {
        "id": "06d31b72"
      },
      "source": [
        "## Identify target currencies\n",
        "\n",
        "### Subtask:\n",
        "Determine how the user will specify the target currency (e.g., as an input variable, a list of currencies).\n"
      ]
    },
    {
      "cell_type": "markdown",
      "metadata": {
        "id": "96933f03"
      },
      "source": [
        "**Reasoning**:\n",
        "\n",
        "*   List item\n",
        "*   List item\n",
        "\n",
        "\n",
        "Define a variable to hold the target currency for the conversion.\n",
        "\n"
      ]
    },
    {
      "cell_type": "code",
      "metadata": {
        "id": "7ac5c179"
      },
      "source": [
        "target_currency = 'eur'"
      ],
      "execution_count": 90,
      "outputs": []
    },
    {
      "cell_type": "markdown",
      "metadata": {
        "id": "8faa6ac8"
      },
      "source": [
        "## Modify api call\n",
        "\n",
        "### Subtask:\n",
        "Update the API call to fetch the Bitcoin price in the specified target currency or currencies.\n"
      ]
    },
    {
      "cell_type": "markdown",
      "metadata": {
        "id": "9b23b15a"
      },
      "source": [
        "**Reasoning**:\n",
        "Modify the API call to fetch the Bitcoin price in the specified target currency.\n",
        "\n"
      ]
    },
    {
      "cell_type": "markdown",
      "metadata": {
        "id": "bbe76cd3"
      },
      "source": [
        "**Reasoning**:\n",
        "The error indicates that the `requests` library was not imported in the current execution environment. Re-import the necessary libraries.\n",
        "\n"
      ]
    },
    {
      "cell_type": "code",
      "metadata": {
        "colab": {
          "base_uri": "https://localhost:8080/"
        },
        "id": "yx9vx7lmne7y",
        "outputId": "6e2cb7ab-b045-4eb3-f9ce-5b75f7351158"
      },
      "source": [
        "import requests\n",
        "import sqlite3\n",
        "from datetime import datetime\n",
        "\n",
        "# Read data from CoinGecko API\n",
        "url = f\"https://api.coingecko.com/api/v3/simple/price?ids=bitcoin&vs_currencies={target_currency}\"\n",
        "response = requests.get(url)\n",
        "data = response.json()\n",
        "\n",
        "data"
      ],
      "execution_count": 91,
      "outputs": [
        {
          "output_type": "execute_result",
          "data": {
            "text/plain": [
              "{'bitcoin': {'eur': 102390}}"
            ]
          },
          "metadata": {},
          "execution_count": 91
        }
      ]
    },
    {
      "cell_type": "markdown",
      "metadata": {
        "id": "561d7086"
      },
      "source": [
        "## Update data processing\n",
        "\n",
        "### Subtask:\n",
        "Adjust the data processing logic to handle the response from the updated API call, which will contain prices in the target currency or currencies.\n"
      ]
    },
    {
      "cell_type": "markdown",
      "metadata": {
        "id": "1632e014"
      },
      "source": [
        "**Reasoning**:\n",
        "Adjust the data processing logic to handle the response from the updated API call, which will contain prices in the target currency.\n",
        "\n"
      ]
    },
    {
      "cell_type": "code",
      "metadata": {
        "colab": {
          "base_uri": "https://localhost:8080/"
        },
        "id": "255a057d",
        "outputId": "7e6b6ce4-cb6a-482a-aecf-6d53ace0288b"
      },
      "source": [
        "# Extract price in target currency\n",
        "target_price = data[\"bitcoin\"][target_currency]\n",
        "timestamp = datetime.now().isoformat()\n",
        "\n",
        "print(f\"Bitcoin price in {target_currency.upper()}: {target_price}\")"
      ],
      "execution_count": 92,
      "outputs": [
        {
          "output_type": "stream",
          "name": "stdout",
          "text": [
            "Bitcoin price in EUR: 102390\n"
          ]
        }
      ]
    },
    {
      "cell_type": "markdown",
      "metadata": {
        "id": "72fba51e"
      },
      "source": [
        "**Reasoning**:\n",
        "The data processing logic has been adjusted to handle the target currency. The next step is to update the database insertion logic to use the target price and currency, and then verify the database update.\n",
        "\n"
      ]
    },
    {
      "cell_type": "markdown",
      "metadata": {
        "id": "e473e667"
      },
      "source": [
        "**Reasoning**:\n",
        "The previous code block failed because the 'prices' table does not exist. This is likely because the notebook was reset or the database file was deleted. I need to recreate the table before attempting to alter or insert into it.\n",
        "\n"
      ]
    },
    {
      "cell_type": "code",
      "metadata": {
        "colab": {
          "base_uri": "https://localhost:8080/"
        },
        "id": "HB9l_8YEnmYw",
        "outputId": "586393eb-7c53-46d6-b0ad-2780a4f9c458"
      },
      "source": [
        "# Connect to SQLite database (or create it)\n",
        "conn = sqlite3.connect(\"bitcoin_prices.db\")\n",
        "cursor = conn.cursor()\n",
        "\n",
        "# Create table if it doesn't exist\n",
        "cursor.execute('''\n",
        "CREATE TABLE IF NOT EXISTS prices (\n",
        "    timestamp TEXT,\n",
        "    usd REAL,\n",
        "    zar REAL\n",
        ")\n",
        "''')\n",
        "conn.commit()\n",
        "\n",
        "# Check if the target currency column exists and add it if not\n",
        "cursor.execute(f\"PRAGMA table_info(prices)\")\n",
        "columns = [col[1] for col in cursor.fetchall()]\n",
        "\n",
        "if target_currency not in columns:\n",
        "    cursor.execute(f\"ALTER TABLE prices ADD COLUMN {target_currency} REAL\")\n",
        "    conn.commit()\n",
        "    print(f\"Added column '{target_currency}' to the prices table.\")\n",
        "\n",
        "# Insert the new row\n",
        "insert_sql = f\"INSERT INTO prices (timestamp, {target_currency}) VALUES (?, ?)\"\n",
        "cursor.execute(insert_sql, (timestamp, target_price))\n",
        "\n",
        "conn.commit()\n",
        "conn.close()\n",
        "\n",
        "# Check if data was successfully written\n",
        "conn = sqlite3.connect(\"bitcoin_prices.db\")\n",
        "cursor = conn.cursor()\n",
        "\n",
        "# Get all column names\n",
        "cursor.execute(f\"PRAGMA table_info(prices)\")\n",
        "available_columns = [col[1] for col in cursor.fetchall()]\n",
        "\n",
        "# Select all columns for the last 5 rows\n",
        "select_sql = f\"SELECT {', '.join(available_columns)} FROM prices ORDER BY timestamp DESC LIMIT 5\"\n",
        "rows = cursor.execute(select_sql).fetchall()\n",
        "\n",
        "for row in rows:\n",
        "    timestamp_val = row[0]\n",
        "    prices_info = []\n",
        "    for i in range(1, len(available_columns)):\n",
        "        currency = available_columns[i]\n",
        "        price = row[i]\n",
        "        if price is not None:\n",
        "            prices_info.append(f\"Bitcoin Price in {currency.upper()}: {price}\")\n",
        "\n",
        "    if prices_info:\n",
        "        print(f\"{timestamp_val}, {', '.join(prices_info)}\")\n",
        "    else:\n",
        "        print(f\"{timestamp_val}, Bitcoin Price: N/A\")\n",
        "\n",
        "conn.close()"
      ],
      "execution_count": 93,
      "outputs": [
        {
          "output_type": "stream",
          "name": "stdout",
          "text": [
            "2025-08-13T09:24:33.029022, Bitcoin Price in EUR: 102390.0\n",
            "2025-08-13T09:24:25.652573, Bitcoin Price in CAD: 165141.0\n",
            "2025-08-13T09:23:51.632682, Bitcoin Price in USD: 120046.0\n",
            "2025-08-13T09:23:35.830420, Bitcoin Price in AUD: 183173.0\n",
            "2025-08-13T09:23:21.427581, Bitcoin Price in ZAR: 2101822.0\n"
          ]
        }
      ]
    },
    {
      "cell_type": "markdown",
      "metadata": {
        "id": "4e5bab64"
      },
      "source": [
        "## Summary:\n",
        "\n",
        "### Data Analysis Key Findings\n",
        "\n",
        "*   The notebook was successfully updated to allow the user to specify a target currency for Bitcoin price conversion using a variable.\n",
        "*   The API call was modified to dynamically fetch the Bitcoin price in the specified target currency from the CoinGecko API.\n",
        "*   The data processing logic was adjusted to handle the API response containing the price in the target currency.\n",
        "*   The SQLite database schema was updated to dynamically add a column for the target currency if it does not exist.\n",
        "*   The database insertion logic was adjusted to correctly insert the fetched price into the newly added column in the `prices` table.\n",
        "*   The data display code was modified to dynamically retrieve and display the Bitcoin price in the target currency from the database, along with other available currency columns.\n"
      ]
    }
  ]
}