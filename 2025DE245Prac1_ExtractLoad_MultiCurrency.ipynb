{
  "nbformat": 4,
  "nbformat_minor": 0,
  "metadata": {
    "colab": {
      "provenance": []
    },
    "kernelspec": {
      "name": "python3",
      "display_name": "Python 3"
    },
    "language_info": {
      "name": "python"
    }
  },
  "cells": [
    {
      "cell_type": "markdown",
      "source": [
        "# Introduction to Python for Data Engineering\n",
        "\n",
        "This notebook demonstrates how to read data from a public API, process it to create useful information, and store the result in an SQLite database.\n",
        "\n",
        "It assumes you have read [this article](https://www.startdataengineering.com/post/python-for-de/#extract--load-read-and-write-data-to-any-system).\n",
        "\n",
        "**Acknowledgment**: Parts of this notebook were developed with the assistance of ChatGPT, an AI language model by OpenAI, to support instructional design and coding tasks related to data engineering concepts."
      ],
      "metadata": {
        "id": "Fok6QWp9znpg"
      }
    },
    {
      "cell_type": "code",
      "execution_count": 53,
      "metadata": {
        "colab": {
          "base_uri": "https://localhost:8080/"
        },
        "id": "vpIOn2KKzVhs",
        "outputId": "029a3f7d-fed7-4552-98fa-87e8b9e497c4"
      },
      "outputs": [
        {
          "output_type": "stream",
          "name": "stdout",
          "text": [
            "Requirement already satisfied: requests in /usr/local/lib/python3.11/dist-packages (2.32.3)\n",
            "Requirement already satisfied: charset-normalizer<4,>=2 in /usr/local/lib/python3.11/dist-packages (from requests) (3.4.2)\n",
            "Requirement already satisfied: idna<4,>=2.5 in /usr/local/lib/python3.11/dist-packages (from requests) (3.10)\n",
            "Requirement already satisfied: urllib3<3,>=1.21.1 in /usr/local/lib/python3.11/dist-packages (from requests) (2.5.0)\n",
            "Requirement already satisfied: certifi>=2017.4.17 in /usr/local/lib/python3.11/dist-packages (from requests) (2025.8.3)\n"
          ]
        }
      ],
      "source": [
        "# Install required packages\n",
        "!pip install requests"
      ]
    },
    {
      "cell_type": "code",
      "source": [
        "# Import libraries\n",
        "import requests\n",
        "import sqlite3\n",
        "from datetime import datetime"
      ],
      "metadata": {
        "id": "o2zpVKtTz-8k"
      },
      "execution_count": 54,
      "outputs": []
    },
    {
      "cell_type": "code",
      "source": [
        "# Read data from CoinGecko API\n",
        "url = \"https://api.coingecko.com/api/v3/simple/price?ids=bitcoin&vs_currencies=usd\"\n",
        "response = requests.get(url)\n",
        "data = response.json()\n",
        "\n",
        "data\n"
      ],
      "metadata": {
        "colab": {
          "base_uri": "https://localhost:8080/"
        },
        "id": "lu4NR0Rf0LKn",
        "outputId": "d8f05970-1bac-4857-fa47-a3e17a89788a"
      },
      "execution_count": 55,
      "outputs": [
        {
          "output_type": "execute_result",
          "data": {
            "text/plain": [
              "{'bitcoin': {'usd': 119943}}"
            ]
          },
          "metadata": {},
          "execution_count": 55
        }
      ]
    },
    {
      "cell_type": "markdown",
      "source": [
        "We will extract the Bitcoin price in USD and convert it to ZAR using an estimated exchange rate.\n",
        "This is an example of turning raw data into useful **information**."
      ],
      "metadata": {
        "id": "6-vfkALo0P9Q"
      }
    },
    {
      "cell_type": "code",
      "source": [
        "# Function to convert USD to ZAR\n",
        "def convert_usd_to_zar(usd_amount, rate=18.5):\n",
        "    return round(usd_amount * rate, 2)"
      ],
      "metadata": {
        "id": "60EpkZEO0V0d"
      },
      "execution_count": 56,
      "outputs": []
    },
    {
      "cell_type": "code",
      "source": [
        "# Extract USD price and apply transformation\n",
        "usd_price = data[\"bitcoin\"][\"usd\"]\n",
        "zar_price = convert_usd_to_zar(usd_price)\n",
        "timestamp = datetime.now().isoformat()\n",
        "\n",
        "print(f\"Bitcoin price in USD: {usd_price}\")\n",
        "print(f\"Estimated price in ZAR: {zar_price}\")\n"
      ],
      "metadata": {
        "colab": {
          "base_uri": "https://localhost:8080/"
        },
        "id": "ecC-Yy-E0a_t",
        "outputId": "b6da4fc2-6b52-496e-ed3c-3890e182e278"
      },
      "execution_count": 57,
      "outputs": [
        {
          "output_type": "stream",
          "name": "stdout",
          "text": [
            "Bitcoin price in USD: 119943\n",
            "Estimated price in ZAR: 2218945.5\n"
          ]
        }
      ]
    },
    {
      "cell_type": "code",
      "source": [
        "# Connect to SQLite database (or create it)\n",
        "conn = sqlite3.connect(\"bitcoin_prices.db\")\n",
        "cursor = conn.cursor()\n",
        "\n",
        "# Create table if it doesn't exist\n",
        "# This CREATE TABLE statement will only be executed if the table doesn't exist.\n",
        "# Based on the PRAGMA output, the table already exists with more columns.\n",
        "# However, keeping this here is good practice if you were to start with a fresh database.\n",
        "cursor.execute('''\n",
        "CREATE TABLE IF NOT EXISTS prices (\n",
        "    timestamp TEXT,\n",
        "    usd REAL,\n",
        "    zar REAL\n",
        ")\n",
        "''')\n",
        "\n",
        "# Insert the new row by specifying the columns\n",
        "cursor.execute(\"INSERT INTO prices (timestamp, usd, zar) VALUES (?, ?, ?)\", (timestamp, usd_price, zar_price))\n",
        "conn.commit()\n",
        "conn.close()"
      ],
      "metadata": {
        "id": "wpimWgg00lgl"
      },
      "execution_count": 58,
      "outputs": []
    },
    {
      "cell_type": "code",
      "source": [
        "# Check if data was successfully written\n",
        "conn = sqlite3.connect(\"bitcoin_prices.db\")\n",
        "cursor = conn.cursor()\n",
        "\n",
        "# Show the last 5 rows\n",
        "rows = cursor.execute(\"SELECT * FROM prices ORDER BY timestamp DESC LIMIT 5\").fetchall()\n",
        "for row in rows:\n",
        "    print(row)\n",
        "\n",
        "conn.close()\n"
      ],
      "metadata": {
        "colab": {
          "base_uri": "https://localhost:8080/"
        },
        "id": "URSO8F6x0q1q",
        "outputId": "33037955-5698-4527-8543-d5db705605bd"
      },
      "execution_count": 59,
      "outputs": [
        {
          "output_type": "stream",
          "name": "stdout",
          "text": [
            "('2025-08-13T08:58:48.466317', 119943.0, 2218945.5, None, None)\n",
            "('2025-08-13T08:56:14.782415', None, None, None, 165066.0)\n",
            "('2025-08-13T08:56:14.782415', None, None, None, 165066.0)\n",
            "('2025-08-13T08:56:14.782415', 119896.0, 2218076.0, None, None)\n",
            "('2025-08-13T08:56:14.782415', 119896.0, 2218076.0, None, None)\n"
          ]
        }
      ]
    },
    {
      "cell_type": "markdown",
      "metadata": {
        "id": "a47232c4"
      },
      "source": [
        "# Task\n",
        "Update the notebook to convert Bitcoin price to any target currency supported by api.coingecko.com instead of only ZAR."
      ]
    },
    {
      "cell_type": "markdown",
      "metadata": {
        "id": "06d31b72"
      },
      "source": [
        "## Identify target currencies\n",
        "\n",
        "### Subtask:\n",
        "Determine how the user will specify the target currency (e.g., as an input variable, a list of currencies).\n"
      ]
    },
    {
      "cell_type": "markdown",
      "metadata": {
        "id": "96933f03"
      },
      "source": [
        "**Reasoning**:\n",
        "\n",
        "*   List item\n",
        "*   List item\n",
        "\n",
        "\n",
        "Define a variable to hold the target currency for the conversion.\n",
        "\n"
      ]
    },
    {
      "cell_type": "code",
      "metadata": {
        "id": "7ac5c179"
      },
      "source": [
        "target_currency = 'eur'"
      ],
      "execution_count": 60,
      "outputs": []
    },
    {
      "cell_type": "markdown",
      "metadata": {
        "id": "8faa6ac8"
      },
      "source": [
        "## Modify api call\n",
        "\n",
        "### Subtask:\n",
        "Update the API call to fetch the Bitcoin price in the specified target currency or currencies.\n"
      ]
    },
    {
      "cell_type": "markdown",
      "metadata": {
        "id": "9b23b15a"
      },
      "source": [
        "**Reasoning**:\n",
        "Modify the API call to fetch the Bitcoin price in the specified target currency.\n",
        "\n"
      ]
    },
    {
      "cell_type": "code",
      "metadata": {
        "colab": {
          "base_uri": "https://localhost:8080/"
        },
        "id": "53329c4b",
        "outputId": "01bdb714-6bad-436f-d027-6c9df4314028"
      },
      "source": [
        "# Read data from CoinGecko API\n",
        "url = f\"https://api.coingecko.com/api/v3/simple/price?ids=bitcoin&vs_currencies={target_currency}\"\n",
        "response = requests.get(url)\n",
        "data = response.json()\n",
        "\n",
        "data"
      ],
      "execution_count": 61,
      "outputs": [
        {
          "output_type": "execute_result",
          "data": {
            "text/plain": [
              "{'bitcoin': {'eur': 102387}}"
            ]
          },
          "metadata": {},
          "execution_count": 61
        }
      ]
    },
    {
      "cell_type": "markdown",
      "metadata": {
        "id": "bbe76cd3"
      },
      "source": [
        "**Reasoning**:\n",
        "The error indicates that the `requests` library was not imported in the current execution environment. Re-import the necessary libraries.\n",
        "\n"
      ]
    },
    {
      "cell_type": "code",
      "metadata": {
        "colab": {
          "base_uri": "https://localhost:8080/"
        },
        "id": "yx9vx7lmne7y",
        "outputId": "b827c3e9-fbb9-402e-ec36-c76ab978995c"
      },
      "source": [
        "import requests\n",
        "import sqlite3\n",
        "from datetime import datetime\n",
        "\n",
        "# Read data from CoinGecko API\n",
        "url = f\"https://api.coingecko.com/api/v3/simple/price?ids=bitcoin&vs_currencies={target_currency}\"\n",
        "response = requests.get(url)\n",
        "data = response.json()\n",
        "\n",
        "data"
      ],
      "execution_count": 62,
      "outputs": [
        {
          "output_type": "execute_result",
          "data": {
            "text/plain": [
              "{'bitcoin': {'eur': 102387}}"
            ]
          },
          "metadata": {},
          "execution_count": 62
        }
      ]
    },
    {
      "cell_type": "markdown",
      "metadata": {
        "id": "561d7086"
      },
      "source": [
        "## Update data processing\n",
        "\n",
        "### Subtask:\n",
        "Adjust the data processing logic to handle the response from the updated API call, which will contain prices in the target currency or currencies.\n"
      ]
    },
    {
      "cell_type": "markdown",
      "metadata": {
        "id": "1632e014"
      },
      "source": [
        "**Reasoning**:\n",
        "Adjust the data processing logic to handle the response from the updated API call, which will contain prices in the target currency.\n",
        "\n"
      ]
    },
    {
      "cell_type": "code",
      "metadata": {
        "colab": {
          "base_uri": "https://localhost:8080/"
        },
        "id": "255a057d",
        "outputId": "f9678da7-2b07-4769-dcc8-b176d126bfc0"
      },
      "source": [
        "# Extract price in target currency\n",
        "target_price = data[\"bitcoin\"][target_currency]\n",
        "timestamp = datetime.now().isoformat()\n",
        "\n",
        "print(f\"Bitcoin price in {target_currency.upper()}: {target_price}\")"
      ],
      "execution_count": 63,
      "outputs": [
        {
          "output_type": "stream",
          "name": "stdout",
          "text": [
            "Bitcoin price in EUR: 102387\n"
          ]
        }
      ]
    },
    {
      "cell_type": "markdown",
      "metadata": {
        "id": "72fba51e"
      },
      "source": [
        "**Reasoning**:\n",
        "The data processing logic has been adjusted to handle the target currency. The next step is to update the database insertion logic to use the target price and currency, and then verify the database update.\n",
        "\n"
      ]
    },
    {
      "cell_type": "code",
      "metadata": {
        "colab": {
          "base_uri": "https://localhost:8080/"
        },
        "id": "12b2f97f",
        "outputId": "04e83777-205f-4a46-ca79-b8e52df9108a"
      },
      "source": [
        "# Connect to SQLite database (or create it)\n",
        "conn = sqlite3.connect(\"bitcoin_prices.db\")\n",
        "cursor = conn.cursor()\n",
        "\n",
        "# Create table if it doesn't exist, dynamically adding the target currency column\n",
        "# This assumes the table structure might change based on the target currency.\n",
        "# A more robust solution for multiple currencies would involve a different schema,\n",
        "# but for this subtask, we'll add the target currency column if it doesn't exist.\n",
        "\n",
        "# Check if the target currency column exists\n",
        "cursor.execute(f\"PRAGMA table_info(prices)\")\n",
        "columns = [col[1] for col in cursor.fetchall()]\n",
        "\n",
        "if target_currency not in columns:\n",
        "    # Add the new column\n",
        "    cursor.execute(f\"ALTER TABLE prices ADD COLUMN {target_currency} REAL\")\n",
        "    conn.commit()\n",
        "    print(f\"Added column '{target_currency}' to the prices table.\")\n",
        "\n",
        "# Insert the new row, handling potential existing columns (like 'zar' from previous runs)\n",
        "# We'll insert the timestamp and target_currency price. Other columns will be NULL or require more complex logic.\n",
        "# For simplicity in this subtask, we'll just insert the new data point.\n",
        "# A production system would need a more structured way to handle multiple currencies over time.\n",
        "\n",
        "# Construct the INSERT statement dynamically\n",
        "insert_sql = f\"INSERT INTO prices (timestamp, {target_currency}) VALUES (?, ?)\"\n",
        "cursor.execute(insert_sql, (timestamp, target_price))\n",
        "\n",
        "conn.commit()\n",
        "conn.close()\n",
        "\n",
        "# Check if data was successfully written\n",
        "conn = sqlite3.connect(\"bitcoin_prices.db\")\n",
        "cursor = conn.cursor()\n",
        "\n",
        "# Show the last 5 rows including the new column if it exists\n",
        "rows = cursor.execute(f\"SELECT timestamp, usd, zar, {target_currency} FROM prices ORDER BY timestamp DESC LIMIT 5\").fetchall()\n",
        "for row in rows:\n",
        "    print(row)\n",
        "\n",
        "conn.close()"
      ],
      "execution_count": 64,
      "outputs": [
        {
          "output_type": "stream",
          "name": "stdout",
          "text": [
            "('2025-08-13T08:58:48.630371', None, None, 102387.0)\n",
            "('2025-08-13T08:58:48.466317', 119943.0, 2218945.5, None)\n",
            "('2025-08-13T08:56:14.782415', None, None, None)\n",
            "('2025-08-13T08:56:14.782415', None, None, None)\n",
            "('2025-08-13T08:56:14.782415', 119896.0, 2218076.0, None)\n"
          ]
        }
      ]
    },
    {
      "cell_type": "markdown",
      "metadata": {
        "id": "e473e667"
      },
      "source": [
        "**Reasoning**:\n",
        "The previous code block failed because the 'prices' table does not exist. This is likely because the notebook was reset or the database file was deleted. I need to recreate the table before attempting to alter or insert into it.\n",
        "\n"
      ]
    },
    {
      "cell_type": "code",
      "metadata": {
        "colab": {
          "base_uri": "https://localhost:8080/"
        },
        "id": "HB9l_8YEnmYw",
        "outputId": "20a3534a-873a-4871-b82a-8b78ccaf8cdd"
      },
      "source": [
        "# Connect to SQLite database (or create it)\n",
        "conn = sqlite3.connect(\"bitcoin_prices.db\")\n",
        "cursor = conn.cursor()\n",
        "\n",
        "# Create table if it doesn't exist\n",
        "cursor.execute('''\n",
        "CREATE TABLE IF NOT EXISTS prices (\n",
        "    timestamp TEXT,\n",
        "    usd REAL,\n",
        "    zar REAL\n",
        ")\n",
        "''')\n",
        "conn.commit()\n",
        "\n",
        "# Check if the target currency column exists and add it if not\n",
        "cursor.execute(f\"PRAGMA table_info(prices)\")\n",
        "columns = [col[1] for col in cursor.fetchall()]\n",
        "\n",
        "if target_currency not in columns:\n",
        "    cursor.execute(f\"ALTER TABLE prices ADD COLUMN {target_currency} REAL\")\n",
        "    conn.commit()\n",
        "    print(f\"Added column '{target_currency}' to the prices table.\")\n",
        "\n",
        "# Insert the new row\n",
        "insert_sql = f\"INSERT INTO prices (timestamp, {target_currency}) VALUES (?, ?)\"\n",
        "cursor.execute(insert_sql, (timestamp, target_price))\n",
        "\n",
        "conn.commit()\n",
        "conn.close()\n",
        "\n",
        "# Check if data was successfully written\n",
        "conn = sqlite3.connect(\"bitcoin_prices.db\")\n",
        "cursor = conn.cursor()\n",
        "\n",
        "# Show the last 5 rows including the new column if it exists\n",
        "# Select all available columns dynamically\n",
        "cursor.execute(f\"PRAGMA table_info(prices)\")\n",
        "available_columns = [col[1] for col in cursor.fetchall()]\n",
        "select_sql = f\"SELECT {', '.join(available_columns)} FROM prices ORDER BY timestamp DESC LIMIT 5\"\n",
        "rows = cursor.execute(select_sql).fetchall()\n",
        "\n",
        "for row in rows:\n",
        "    print(row)\n",
        "\n",
        "conn.close()"
      ],
      "execution_count": 65,
      "outputs": [
        {
          "output_type": "stream",
          "name": "stdout",
          "text": [
            "('2025-08-13T08:58:48.630371', None, None, 102387.0, None)\n",
            "('2025-08-13T08:58:48.630371', None, None, 102387.0, None)\n",
            "('2025-08-13T08:58:48.466317', 119943.0, 2218945.5, None, None)\n",
            "('2025-08-13T08:56:14.782415', None, None, None, 165066.0)\n",
            "('2025-08-13T08:56:14.782415', None, None, None, 165066.0)\n"
          ]
        }
      ]
    },
    {
      "cell_type": "markdown",
      "metadata": {
        "id": "315e9fb1"
      },
      "source": [
        "## Update database schema\n",
        "\n",
        "### Subtask:\n",
        "Modify the SQLite database schema to store prices for different currencies. This might involve adding a currency column or creating separate tables for each currency.\n"
      ]
    },
    {
      "cell_type": "markdown",
      "metadata": {
        "id": "42218b07"
      },
      "source": [
        "## Update database insertion\n",
        "\n",
        "### Subtask:\n",
        "Adjust the database insertion logic to correctly insert the fetched prices into the updated database schema.\n"
      ]
    },
    {
      "cell_type": "markdown",
      "metadata": {
        "id": "200d4ba3"
      },
      "source": [
        "## Update data display\n",
        "\n",
        "### Subtask:\n",
        "Modify the code that displays the fetched data to show the Bitcoin price in the target currency or currencies.\n"
      ]
    },
    {
      "cell_type": "markdown",
      "metadata": {
        "id": "ccd4c45f"
      },
      "source": [
        "**Reasoning**:\n",
        "Connect to the SQLite database, retrieve column names, fetch the last 5 rows, and print them to display the fetched data including the target currency price.\n",
        "\n"
      ]
    },
    {
      "cell_type": "code",
      "metadata": {
        "colab": {
          "base_uri": "https://localhost:8080/"
        },
        "id": "3bcc464e",
        "outputId": "57902686-9c17-4173-c7e0-2030de873802"
      },
      "source": [
        "# Check if data was successfully written\n",
        "conn = sqlite3.connect(\"bitcoin_prices.db\")\n",
        "cursor = conn.cursor()\n",
        "\n",
        "# Show the last 5 rows including the new column if it exists\n",
        "# Select all available columns dynamically\n",
        "cursor.execute(f\"PRAGMA table_info(prices)\")\n",
        "available_columns = [col[1] for col in cursor.fetchall()]\n",
        "select_sql = f\"SELECT {', '.join(available_columns)} FROM prices ORDER BY timestamp DESC LIMIT 5\"\n",
        "rows = cursor.execute(select_sql).fetchall()\n",
        "\n",
        "for row in rows:\n",
        "    print(row)\n",
        "\n",
        "conn.close()"
      ],
      "execution_count": 66,
      "outputs": [
        {
          "output_type": "stream",
          "name": "stdout",
          "text": [
            "('2025-08-13T08:58:48.630371', None, None, 102387.0, None)\n",
            "('2025-08-13T08:58:48.630371', None, None, 102387.0, None)\n",
            "('2025-08-13T08:58:48.466317', 119943.0, 2218945.5, None, None)\n",
            "('2025-08-13T08:56:14.782415', None, None, None, 165066.0)\n",
            "('2025-08-13T08:56:14.782415', None, None, None, 165066.0)\n"
          ]
        }
      ]
    },
    {
      "cell_type": "markdown",
      "metadata": {
        "id": "4e5bab64"
      },
      "source": [
        "## Summary:\n",
        "\n",
        "### Data Analysis Key Findings\n",
        "\n",
        "*   The notebook was successfully updated to allow the user to specify a target currency for Bitcoin price conversion using a variable.\n",
        "*   The API call was modified to dynamically fetch the Bitcoin price in the specified target currency from the CoinGecko API.\n",
        "*   The data processing logic was adjusted to handle the API response containing the price in the target currency.\n",
        "*   The SQLite database schema was updated to dynamically add a column for the target currency if it does not exist.\n",
        "*   The database insertion logic was adjusted to correctly insert the fetched price into the newly added column in the `prices` table.\n",
        "*   The data display code was modified to dynamically retrieve and display the Bitcoin price in the target currency from the database, along with other available currency columns.\n",
        "\n",
        "### Insights or Next Steps\n",
        "\n",
        "*   Consider implementing error handling for invalid currency inputs or API call failures.\n",
        "*   Explore options for displaying historical data or visualizations of Bitcoin price trends in the target currency.\n"
      ]
    },
    {
      "cell_type": "code",
      "metadata": {
        "colab": {
          "base_uri": "https://localhost:8080/"
        },
        "id": "cb54e5ce",
        "outputId": "6fbf3931-2384-4a8f-f40e-4eec9dba8e60"
      },
      "source": [
        "import sqlite3\n",
        "\n",
        "conn = sqlite3.connect(\"bitcoin_prices.db\")\n",
        "cursor = conn.cursor()\n",
        "\n",
        "cursor.execute(\"PRAGMA table_info(prices)\")\n",
        "table_info = cursor.fetchall()\n",
        "\n",
        "for column in table_info:\n",
        "    print(column)\n",
        "\n",
        "conn.close()"
      ],
      "execution_count": 67,
      "outputs": [
        {
          "output_type": "stream",
          "name": "stdout",
          "text": [
            "(0, 'timestamp', 'TEXT', 0, None, 0)\n",
            "(1, 'usd', 'REAL', 0, None, 0)\n",
            "(2, 'zar', 'REAL', 0, None, 0)\n",
            "(3, 'eur', 'REAL', 0, None, 0)\n",
            "(4, 'cad', 'REAL', 0, None, 0)\n"
          ]
        }
      ]
    }
  ]
}