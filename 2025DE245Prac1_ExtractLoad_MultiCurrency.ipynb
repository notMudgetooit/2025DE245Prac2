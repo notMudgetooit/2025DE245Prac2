{
  "cells": [
    {
      "cell_type": "markdown",
      "metadata": {
        "id": "Fok6QWp9znpg"
      },
      "source": [
        "# Introduction to Python for Data Engineering\n",
        "\n",
        "This notebook demonstrates how to read data from a public API, process it to create useful information, and store the result in an SQLite database.\n",
        "\n",
        "It assumes you have read [this article](https://www.startdataengineering.com/post/python-for-de/#extract--load-read-and-write-data-to-any-system).\n",
        "\n",
        "**Acknowledgment**: Parts of this notebook were developed with the assistance of ChatGPT, an AI language model by OpenAI, to support instructional design and coding tasks related to data engineering concepts."
      ]
    },
    {
      "cell_type": "code",
      "execution_count": 7,
      "metadata": {
        "colab": {
          "base_uri": "https://localhost:8080/"
        },
        "id": "vpIOn2KKzVhs",
        "outputId": "5f5a4ffa-523d-4189-cb74-1b5cc594152c"
      },
      "outputs": [
        {
          "name": "stdout",
          "output_type": "stream",
          "text": [
            "Requirement already satisfied: requests in c:\\users\\josep\\appdata\\local\\programs\\python\\python312\\lib\\site-packages (2.32.4)\n",
            "Requirement already satisfied: charset_normalizer<4,>=2 in c:\\users\\josep\\appdata\\local\\programs\\python\\python312\\lib\\site-packages (from requests) (3.4.3)\n",
            "Requirement already satisfied: idna<4,>=2.5 in c:\\users\\josep\\appdata\\local\\programs\\python\\python312\\lib\\site-packages (from requests) (3.10)\n",
            "Requirement already satisfied: urllib3<3,>=1.21.1 in c:\\users\\josep\\appdata\\local\\programs\\python\\python312\\lib\\site-packages (from requests) (2.5.0)\n",
            "Requirement already satisfied: certifi>=2017.4.17 in c:\\users\\josep\\appdata\\local\\programs\\python\\python312\\lib\\site-packages (from requests) (2025.8.3)\n"
          ]
        },
        {
          "name": "stderr",
          "output_type": "stream",
          "text": [
            "ERROR: Could not find a version that satisfies the requirement sqlite3 (from versions: none)\n",
            "ERROR: No matching distribution found for sqlite3\n"
          ]
        },
        {
          "name": "stdout",
          "output_type": "stream",
          "text": [
            "Requirement already satisfied: datetime in c:\\users\\josep\\appdata\\local\\programs\\python\\python312\\lib\\site-packages (5.5)\n",
            "Requirement already satisfied: zope.interface in c:\\users\\josep\\appdata\\local\\programs\\python\\python312\\lib\\site-packages (from datetime) (7.2)\n",
            "Requirement already satisfied: pytz in c:\\users\\josep\\appdata\\local\\programs\\python\\python312\\lib\\site-packages (from datetime) (2025.2)\n",
            "Requirement already satisfied: setuptools in c:\\users\\josep\\appdata\\local\\programs\\python\\python312\\lib\\site-packages (from zope.interface->datetime) (80.9.0)\n"
          ]
        }
      ],
      "source": [
        "# Install required packages\n",
        "!pip install requests\n",
        "!pip install sqlite3\n",
        "!pip install datetime"
      ]
    },
    {
      "cell_type": "markdown",
      "metadata": {
        "id": "a47232c4"
      },
      "source": [
        "# Task\n",
        "Update the notebook to convert Bitcoin price to any target currency supported by api.coingecko.com instead of only ZAR."
      ]
    },
    {
      "cell_type": "markdown",
      "metadata": {
        "id": "06d31b72"
      },
      "source": [
        "## Identify target currencies\n",
        "\n",
        "### Subtask:\n",
        "Determine how the user will specify the target currency (e.g., as an input variable, a list of currencies).\n"
      ]
    },
    {
      "cell_type": "markdown",
      "metadata": {
        "id": "96933f03"
      },
      "source": [
        "**Reasoning**:\n",
        "\n",
        "*   List item\n",
        "*   List item\n",
        "\n",
        "\n",
        "Define a variable to hold the target currency for the conversion.\n",
        "\n"
      ]
    },
    {
      "cell_type": "code",
      "execution_count": 12,
      "metadata": {
        "id": "7ac5c179"
      },
      "outputs": [],
      "source": [
        "target_currency = 'zar'"
      ]
    },
    {
      "cell_type": "markdown",
      "metadata": {
        "id": "8faa6ac8"
      },
      "source": [
        "## Modify api call\n",
        "\n",
        "### Subtask:\n",
        "Update the API call to fetch the Bitcoin price in the specified target currency or currencies.\n"
      ]
    },
    {
      "cell_type": "markdown",
      "metadata": {
        "id": "9b23b15a"
      },
      "source": [
        "**Reasoning**:\n",
        "Modify the API call to fetch the Bitcoin price in the specified target currency.\n",
        "\n"
      ]
    },
    {
      "cell_type": "markdown",
      "metadata": {
        "id": "bbe76cd3"
      },
      "source": [
        "**Reasoning**:\n",
        "The error indicates that the `requests` library was not imported in the current execution environment. Re-import the necessary libraries.\n",
        "\n"
      ]
    },
    {
      "cell_type": "code",
      "execution_count": 13,
      "metadata": {
        "colab": {
          "base_uri": "https://localhost:8080/"
        },
        "id": "yx9vx7lmne7y",
        "outputId": "6e2cb7ab-b045-4eb3-f9ce-5b75f7351158"
      },
      "outputs": [
        {
          "data": {
            "text/plain": [
              "{'bitcoin': {'zar': 2110569}}"
            ]
          },
          "execution_count": 13,
          "metadata": {},
          "output_type": "execute_result"
        }
      ],
      "source": [
        "import requests\n",
        "import sqlite3\n",
        "from datetime import datetime\n",
        "\n",
        "# Read data from CoinGecko API\n",
        "url = f\"https://api.coingecko.com/api/v3/simple/price?ids=bitcoin&vs_currencies={target_currency}\"\n",
        "response = requests.get(url)\n",
        "data = response.json()\n",
        "\n",
        "data"
      ]
    },
    {
      "cell_type": "markdown",
      "metadata": {
        "id": "561d7086"
      },
      "source": [
        "## Update data processing\n",
        "\n",
        "### Subtask:\n",
        "Adjust the data processing logic to handle the response from the updated API call, which will contain prices in the target currency or currencies.\n"
      ]
    },
    {
      "cell_type": "markdown",
      "metadata": {
        "id": "1632e014"
      },
      "source": [
        "**Reasoning**:\n",
        "Adjust the data processing logic to handle the response from the updated API call, which will contain prices in the target currency.\n",
        "\n"
      ]
    },
    {
      "cell_type": "code",
      "execution_count": 14,
      "metadata": {
        "colab": {
          "base_uri": "https://localhost:8080/"
        },
        "id": "255a057d",
        "outputId": "7e6b6ce4-cb6a-482a-aecf-6d53ace0288b"
      },
      "outputs": [
        {
          "name": "stdout",
          "output_type": "stream",
          "text": [
            "Bitcoin price in ZAR: 2110569\n"
          ]
        }
      ],
      "source": [
        "# Extract price in target currency\n",
        "target_price = data[\"bitcoin\"][target_currency]\n",
        "timestamp = datetime.now().isoformat()\n",
        "\n",
        "print(f\"Bitcoin price in {target_currency.upper()}: {target_price}\")"
      ]
    },
    {
      "cell_type": "markdown",
      "metadata": {
        "id": "72fba51e"
      },
      "source": [
        "**Reasoning**:\n",
        "The data processing logic has been adjusted to handle the target currency. The next step is to update the database insertion logic to use the target price and currency, and then verify the database update.\n",
        "\n"
      ]
    },
    {
      "cell_type": "markdown",
      "metadata": {
        "id": "e473e667"
      },
      "source": [
        "**Reasoning**:\n",
        "The previous code block failed because the 'prices' table does not exist. This is likely because the notebook was reset or the database file was deleted. I need to recreate the table before attempting to alter or insert into it.\n",
        "\n"
      ]
    },
    {
      "cell_type": "code",
      "execution_count": 15,
      "metadata": {
        "colab": {
          "base_uri": "https://localhost:8080/"
        },
        "id": "HB9l_8YEnmYw",
        "outputId": "586393eb-7c53-46d6-b0ad-2780a4f9c458"
      },
      "outputs": [
        {
          "name": "stdout",
          "output_type": "stream",
          "text": [
            "2025-08-13T14:55:17.730296, Bitcoin Price in ZAR: 2110569.0\n",
            "2025-08-13T14:54:41.341488, Bitcoin Price in EUR: 102937.0\n",
            "2025-08-13T14:54:20.330082, Bitcoin Price in EUR: 102937.0\n"
          ]
        }
      ],
      "source": [
        "# Connect to SQLite database (or create it)\n",
        "conn = sqlite3.connect(\"bitcoin_prices.db\")\n",
        "cursor = conn.cursor()\n",
        "\n",
        "# Create table if it doesn't exist\n",
        "cursor.execute('''\n",
        "CREATE TABLE IF NOT EXISTS prices (\n",
        "    timestamp TEXT,\n",
        "    usd REAL,\n",
        "    zar REAL\n",
        ")\n",
        "''')\n",
        "conn.commit()\n",
        "\n",
        "# Check if the target currency column exists and add it if not\n",
        "cursor.execute(f\"PRAGMA table_info(prices)\")\n",
        "columns = [col[1] for col in cursor.fetchall()]\n",
        "\n",
        "if target_currency not in columns:\n",
        "    cursor.execute(f\"ALTER TABLE prices ADD COLUMN {target_currency} REAL\")\n",
        "    conn.commit()\n",
        "    print(f\"Added column '{target_currency}' to the prices table.\")\n",
        "\n",
        "# Insert the new row\n",
        "insert_sql = f\"INSERT INTO prices (timestamp, {target_currency}) VALUES (?, ?)\"\n",
        "cursor.execute(insert_sql, (timestamp, target_price))\n",
        "\n",
        "conn.commit()\n",
        "conn.close()\n",
        "\n",
        "# Check if data was successfully written\n",
        "conn = sqlite3.connect(\"bitcoin_prices.db\")\n",
        "cursor = conn.cursor()\n",
        "\n",
        "# Get all column names\n",
        "cursor.execute(f\"PRAGMA table_info(prices)\")\n",
        "available_columns = [col[1] for col in cursor.fetchall()]\n",
        "\n",
        "# Select all columns for the last 5 rows\n",
        "select_sql = f\"SELECT {', '.join(available_columns)} FROM prices ORDER BY timestamp DESC LIMIT 5\"\n",
        "rows = cursor.execute(select_sql).fetchall()\n",
        "\n",
        "for row in rows:\n",
        "    timestamp_val = row[0]\n",
        "    prices_info = []\n",
        "    for i in range(1, len(available_columns)):\n",
        "        currency = available_columns[i]\n",
        "        price = row[i]\n",
        "        if price is not None:\n",
        "            prices_info.append(f\"Bitcoin Price in {currency.upper()}: {price}\")\n",
        "\n",
        "    if prices_info:\n",
        "        print(f\"{timestamp_val}, {', '.join(prices_info)}\")\n",
        "    else:\n",
        "        print(f\"{timestamp_val}, Bitcoin Price: N/A\")\n",
        "\n",
        "conn.close()"
      ]
    },
    {
      "cell_type": "markdown",
      "metadata": {
        "id": "4e5bab64"
      },
      "source": [
        "## Summary:\n",
        "\n",
        "### Data Analysis Key Findings\n",
        "\n",
        "*   The notebook was successfully updated to allow the user to specify a target currency for Bitcoin price conversion using a variable.\n",
        "*   The API call was modified to dynamically fetch the Bitcoin price in the specified target currency from the CoinGecko API.\n",
        "*   The data processing logic was adjusted to handle the API response containing the price in the target currency.\n",
        "*   The SQLite database schema was updated to dynamically add a column for the target currency if it does not exist.\n",
        "*   The database insertion logic was adjusted to correctly insert the fetched price into the newly added column in the `prices` table.\n",
        "*   The data display code was modified to dynamically retrieve and display the Bitcoin price in the target currency from the database, along with other available currency columns.\n"
      ]
    }
  ],
  "metadata": {
    "colab": {
      "provenance": []
    },
    "kernelspec": {
      "display_name": "Python 3",
      "name": "python3"
    },
    "language_info": {
      "codemirror_mode": {
        "name": "ipython",
        "version": 3
      },
      "file_extension": ".py",
      "mimetype": "text/x-python",
      "name": "python",
      "nbconvert_exporter": "python",
      "pygments_lexer": "ipython3",
      "version": "3.12.3"
    }
  },
  "nbformat": 4,
  "nbformat_minor": 0
}
